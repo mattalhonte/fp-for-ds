{
 "cells": [
  {
   "cell_type": "code",
   "execution_count": 9,
   "metadata": {
    "slideshow": {
     "slide_type": "skip"
    }
   },
   "outputs": [],
   "source": [
    "import pandas as pd\n",
    "import numpy as np\n",
    "from itertools import product\n",
    "\n",
    "from typing import List, Tuple, Union\n"
   ]
  },
  {
   "cell_type": "code",
   "execution_count": 2,
   "metadata": {
    "slideshow": {
     "slide_type": "skip"
    }
   },
   "outputs": [
    {
     "data": {
      "text/html": [
       "<div>\n",
       "<style scoped>\n",
       "    .dataframe tbody tr th:only-of-type {\n",
       "        vertical-align: middle;\n",
       "    }\n",
       "\n",
       "    .dataframe tbody tr th {\n",
       "        vertical-align: top;\n",
       "    }\n",
       "\n",
       "    .dataframe thead th {\n",
       "        text-align: right;\n",
       "    }\n",
       "</style>\n",
       "<table border=\"1\" class=\"dataframe\">\n",
       "  <thead>\n",
       "    <tr style=\"text-align: right;\">\n",
       "      <th></th>\n",
       "      <th>min_height</th>\n",
       "      <th>max_height</th>\n",
       "      <th>average_weight</th>\n",
       "    </tr>\n",
       "    <tr>\n",
       "      <th>kind</th>\n",
       "      <th></th>\n",
       "      <th></th>\n",
       "      <th></th>\n",
       "    </tr>\n",
       "  </thead>\n",
       "  <tbody>\n",
       "    <tr>\n",
       "      <th>cat</th>\n",
       "      <td>9.1</td>\n",
       "      <td>9.5</td>\n",
       "      <td>8.90</td>\n",
       "    </tr>\n",
       "    <tr>\n",
       "      <th>dog</th>\n",
       "      <td>6.0</td>\n",
       "      <td>34.0</td>\n",
       "      <td>102.75</td>\n",
       "    </tr>\n",
       "  </tbody>\n",
       "</table>\n",
       "</div>"
      ],
      "text/plain": [
       "      min_height  max_height  average_weight\n",
       "kind                                        \n",
       "cat          9.1         9.5            8.90\n",
       "dog          6.0        34.0          102.75"
      ]
     },
     "execution_count": 2,
     "metadata": {},
     "output_type": "execute_result"
    }
   ],
   "source": [
    "animals = pd.DataFrame({'kind': ['cat', 'dog', 'cat', 'dog'],\n",
    "                         'height': [9.1, 6.0, 9.5, 34.0],\n",
    "                         'weight': [7.9, 7.5, 9.9, 198.0]})\n",
    "                         \n",
    "animals.groupby(\"kind\").agg(\n",
    "        min_height=('height', 'min'),\n",
    "        max_height=('height', 'max'),\n",
    "        average_weight=('weight', np.mean),\n",
    "    )     "
   ]
  },
  {
   "cell_type": "code",
   "execution_count": 5,
   "metadata": {
    "slideshow": {
     "slide_type": "skip"
    }
   },
   "outputs": [],
   "source": [
    "import random\n",
    "\n",
    "dct = {\n",
    "    \"A\": [random.choice([\"animal\", \"vegetable\", \"mineral\"]) for _ in range(10)],\n",
    "    \"B\": list(range(10)),\n",
    "    \"C\": [random.choice([\"alice\", \"bob\", \"charlie\"]) for _ in range(10)],\n",
    "}"
   ]
  },
  {
   "cell_type": "code",
   "execution_count": 9,
   "metadata": {
    "slideshow": {
     "slide_type": "skip"
    }
   },
   "outputs": [],
   "source": [
    "df = pd.DataFrame(\n",
    "    {\n",
    "        \"A\": [\n",
    "            \"animal\",\n",
    "            \"vegetable\",\n",
    "            \"vegetable\",\n",
    "            \"vegetable\",\n",
    "            \"vegetable\",\n",
    "            \"mineral\",\n",
    "            \"vegetable\",\n",
    "            \"animal\",\n",
    "            \"animal\",\n",
    "            \"animal\",\n",
    "        ],\n",
    "        \"B\": [0, 1, 2, 3, np.nan, 5, 6, 7, 8, 9],\n",
    "        \"C\": [\n",
    "            \"charlie\",\n",
    "            \"bob\",\n",
    "            \"alice\",\n",
    "            \"alice\",\n",
    "            \"charlie\",\n",
    "            \"alice\",\n",
    "            \"bob\",\n",
    "            \"charlie\",\n",
    "            \"bob\",\n",
    "            \"bob\",\n",
    "        ],\n",
    "    }\n",
    ")"
   ]
  },
  {
   "cell_type": "code",
   "execution_count": 10,
   "metadata": {
    "slideshow": {
     "slide_type": "skip"
    }
   },
   "outputs": [
    {
     "data": {
      "text/plain": [
       "A\n",
       "animal       6.0\n",
       "mineral      5.0\n",
       "vegetable    3.0\n",
       "Name: B, dtype: float64"
      ]
     },
     "execution_count": 10,
     "metadata": {},
     "output_type": "execute_result"
    }
   ],
   "source": [
    "df.groupby(\"A\")[\"B\"].mean()"
   ]
  },
  {
   "cell_type": "code",
   "execution_count": 6,
   "metadata": {
    "slideshow": {
     "slide_type": "skip"
    }
   },
   "outputs": [
    {
     "data": {
      "text/plain": [
       "{'A': ['animal',\n",
       "  'vegetable',\n",
       "  'vegetable',\n",
       "  'vegetable',\n",
       "  'vegetable',\n",
       "  'mineral',\n",
       "  'vegetable',\n",
       "  'animal',\n",
       "  'animal',\n",
       "  'animal'],\n",
       " 'B': [0, 1, 2, 3, 4, 5, 6, 7, 8, 9],\n",
       " 'C': ['charlie',\n",
       "  'bob',\n",
       "  'alice',\n",
       "  'alice',\n",
       "  'charlie',\n",
       "  'alice',\n",
       "  'bob',\n",
       "  'charlie',\n",
       "  'bob',\n",
       "  'bob']}"
      ]
     },
     "execution_count": 6,
     "metadata": {},
     "output_type": "execute_result"
    }
   ],
   "source": [
    "dct"
   ]
  },
  {
   "cell_type": "markdown",
   "metadata": {
    "slideshow": {
     "slide_type": "slide"
    }
   },
   "source": [
    "# Functional Programming for Data Scientists"
   ]
  },
  {
   "cell_type": "markdown",
   "metadata": {
    "slideshow": {
     "slide_type": "slide"
    }
   },
   "source": [
    "## Why FP?"
   ]
  },
  {
   "cell_type": "markdown",
   "metadata": {
    "slideshow": {
     "slide_type": "slide"
    }
   },
   "source": [
    "### Managing State\n",
    "\n",
    "Chances are, you spend time in Notebooks"
   ]
  },
  {
   "cell_type": "markdown",
   "metadata": {
    "slideshow": {
     "slide_type": "fragment"
    }
   },
   "source": [
    "One of the biggest drawbacks to notebooks is managing Hidden State"
   ]
  },
  {
   "cell_type": "markdown",
   "metadata": {
    "slideshow": {
     "slide_type": "fragment"
    }
   },
   "source": [
    "Functional Programming habits make it a lot easier to manage state!"
   ]
  },
  {
   "cell_type": "markdown",
   "metadata": {
    "slideshow": {
     "slide_type": "subslide"
    }
   },
   "source": [
    "Hrm, this was working last night!  How come it's not working when I restarted the notebook?"
   ]
  },
  {
   "cell_type": "code",
   "execution_count": 11,
   "metadata": {
    "slideshow": {
     "slide_type": "fragment"
    }
   },
   "outputs": [
    {
     "ename": "NameError",
     "evalue": "name 'y' is not defined",
     "output_type": "error",
     "traceback": [
      "\u001b[0;31m---------------------------------------------------------------------------\u001b[0m",
      "\u001b[0;31mNameError\u001b[0m                                 Traceback (most recent call last)",
      "\u001b[0;32m<ipython-input-11-91a4462e70ce>\u001b[0m in \u001b[0;36m<module>\u001b[0;34m\u001b[0m\n\u001b[1;32m      1\u001b[0m \u001b[0mx\u001b[0m \u001b[0;34m=\u001b[0m \u001b[0;36m5\u001b[0m\u001b[0;34m\u001b[0m\u001b[0;34m\u001b[0m\u001b[0m\n\u001b[0;32m----> 2\u001b[0;31m \u001b[0mx\u001b[0m \u001b[0;34m+\u001b[0m \u001b[0my\u001b[0m\u001b[0;34m\u001b[0m\u001b[0;34m\u001b[0m\u001b[0m\n\u001b[0m",
      "\u001b[0;31mNameError\u001b[0m: name 'y' is not defined"
     ]
    }
   ],
   "source": [
    "x = 5 \n",
    "x + y"
   ]
  },
  {
   "cell_type": "code",
   "execution_count": 12,
   "metadata": {
    "slideshow": {
     "slide_type": "fragment"
    }
   },
   "outputs": [],
   "source": [
    "y = 2"
   ]
  },
  {
   "cell_type": "markdown",
   "metadata": {
    "slideshow": {
     "slide_type": "slide"
    }
   },
   "source": [
    "### Lower Cognitive Load\n",
    "\n",
    ">\"There are only two hard things in Computer Science: cache invalidation and naming things.\" \n",
    "-- Phil Karlton\n",
    "\n",
    "Anonymous Functions\n",
    "\n",
    "Piping"
   ]
  },
  {
   "cell_type": "markdown",
   "metadata": {
    "slideshow": {
     "slide_type": "slide"
    }
   },
   "source": [
    "### Serialization\n",
    "\n",
    "Easier parallelization\n",
    "\n",
    "Easier Caching"
   ]
  },
  {
   "cell_type": "markdown",
   "metadata": {
    "slideshow": {
     "slide_type": "slide"
    }
   },
   "source": [
    "## How to incorporate FP"
   ]
  },
  {
   "cell_type": "markdown",
   "metadata": {
    "slideshow": {
     "slide_type": "slide"
    }
   },
   "source": [
    "### Method Chaining"
   ]
  },
  {
   "cell_type": "markdown",
   "metadata": {
    "slideshow": {
     "slide_type": "subslide"
    }
   },
   "source": [
    "Stolen from this fantastic article: https://tomaugspurger.github.io/method-chaining.html"
   ]
  },
  {
   "cell_type": "code",
   "execution_count": null,
   "metadata": {
    "slideshow": {
     "slide_type": "fragment"
    }
   },
   "outputs": [],
   "source": [
    "n_hill = went_up(jack_jill, 'hill')\n",
    "with_water = fetch(on_hill, 'water')\n",
    "fallen = fell_down(with_water, 'jack')\n",
    "broken = broke(fallen, 'jack')\n",
    "after = tmple_after(broken, 'jill')"
   ]
  },
  {
   "cell_type": "markdown",
   "metadata": {
    "slideshow": {
     "slide_type": "fragment"
    }
   },
   "source": [
    "vs"
   ]
  },
  {
   "cell_type": "code",
   "execution_count": null,
   "metadata": {
    "slideshow": {
     "slide_type": "fragment"
    }
   },
   "outputs": [],
   "source": [
    "jack_jill = JackAndJill()\n",
    "(jack_jill.went_up('hill')\n",
    "    .fetch('water')\n",
    "    .fell_down('jack')\n",
    "    .broke('crown')\n",
    "    .tumble_after('jill')\n",
    ")"
   ]
  },
  {
   "cell_type": "markdown",
   "metadata": {
    "slideshow": {
     "slide_type": "slide"
    }
   },
   "source": [
    "### toolz\n",
    "Based on the Clojure library\n",
    "\n",
    "Composing functions\n",
    "\n",
    "Declarative operations on sequences & dictionaries"
   ]
  },
  {
   "cell_type": "code",
   "execution_count": null,
   "metadata": {
    "slideshow": {
     "slide_type": "subslide"
    }
   },
   "outputs": [],
   "source": [
    "def format_new_rows(new_rows: List[gspread.models.Cell]) -> List[List[str]]:\n",
    "    formatted_rows = tz.functoolz.thread_last(\n",
    "        new_rows,\n",
    "        (map, lambda x: x.value),\n",
    "        (tz.itertoolz.partition_all, 12),\n",
    "        (filter, lambda x: any(y!='' for y in x)),\n",
    "        (map, list),\n",
    "        list,\n",
    "    )\n",
    "    return formatted_rows"
   ]
  },
  {
   "cell_type": "markdown",
   "metadata": {
    "slideshow": {
     "slide_type": "slide"
    }
   },
   "source": [
    "### Building an interface for yourself"
   ]
  },
  {
   "cell_type": "code",
   "execution_count": 3,
   "metadata": {
    "slideshow": {
     "slide_type": "subslide"
    }
   },
   "outputs": [],
   "source": [
    "animals = pd.DataFrame({'kind': ['cat', 'dog', 'cat', 'dog'],\n",
    "                         'height': [9.1, 6.0, 9.5, 34.0],\n",
    "                         'weight': [7.9, 7.5, 9.9, 198.0]})\n",
    "                         "
   ]
  },
  {
   "cell_type": "code",
   "execution_count": 7,
   "metadata": {
    "slideshow": {
     "slide_type": "fragment"
    }
   },
   "outputs": [
    {
     "data": {
      "text/html": [
       "<div>\n",
       "<style scoped>\n",
       "    .dataframe tbody tr th:only-of-type {\n",
       "        vertical-align: middle;\n",
       "    }\n",
       "\n",
       "    .dataframe tbody tr th {\n",
       "        vertical-align: top;\n",
       "    }\n",
       "\n",
       "    .dataframe thead th {\n",
       "        text-align: right;\n",
       "    }\n",
       "</style>\n",
       "<table border=\"1\" class=\"dataframe\">\n",
       "  <thead>\n",
       "    <tr style=\"text-align: right;\">\n",
       "      <th></th>\n",
       "      <th>min_height</th>\n",
       "      <th>max_height</th>\n",
       "      <th>average_weight</th>\n",
       "    </tr>\n",
       "    <tr>\n",
       "      <th>kind</th>\n",
       "      <th></th>\n",
       "      <th></th>\n",
       "      <th></th>\n",
       "    </tr>\n",
       "  </thead>\n",
       "  <tbody>\n",
       "    <tr>\n",
       "      <th>cat</th>\n",
       "      <td>9.1</td>\n",
       "      <td>9.5</td>\n",
       "      <td>8.90</td>\n",
       "    </tr>\n",
       "    <tr>\n",
       "      <th>dog</th>\n",
       "      <td>6.0</td>\n",
       "      <td>34.0</td>\n",
       "      <td>102.75</td>\n",
       "    </tr>\n",
       "  </tbody>\n",
       "</table>\n",
       "</div>"
      ],
      "text/plain": [
       "      min_height  max_height  average_weight\n",
       "kind                                        \n",
       "cat          9.1         9.5            8.90\n",
       "dog          6.0        34.0          102.75"
      ]
     },
     "execution_count": 7,
     "metadata": {},
     "output_type": "execute_result"
    }
   ],
   "source": [
    "animals.groupby(\"kind\").agg(\n",
    "        min_height=('height', 'min'),\n",
    "        max_height=('height', 'max'),\n",
    "        average_weight=('weight', np.mean),\n",
    "    )     "
   ]
  },
  {
   "cell_type": "code",
   "execution_count": null,
   "metadata": {
    "slideshow": {
     "slide_type": "subslide"
    }
   },
   "outputs": [],
   "source": [
    "animals = pd.DataFrame({'kind': ['cat', 'dog', 'cat', 'dog'],\n",
    "                         'height': [9.1, 6.0, 9.5, 34.0],\n",
    "                         'weight': [7.9, 7.5, 9.9, 198.0]})\n",
    "                         "
   ]
  },
  {
   "cell_type": "code",
   "execution_count": 6,
   "metadata": {
    "slideshow": {
     "slide_type": "fragment"
    }
   },
   "outputs": [
    {
     "data": {
      "text/html": [
       "<div>\n",
       "<style scoped>\n",
       "    .dataframe tbody tr th:only-of-type {\n",
       "        vertical-align: middle;\n",
       "    }\n",
       "\n",
       "    .dataframe tbody tr th {\n",
       "        vertical-align: top;\n",
       "    }\n",
       "\n",
       "    .dataframe thead th {\n",
       "        text-align: right;\n",
       "    }\n",
       "</style>\n",
       "<table border=\"1\" class=\"dataframe\">\n",
       "  <thead>\n",
       "    <tr style=\"text-align: right;\">\n",
       "      <th></th>\n",
       "      <th>height_min</th>\n",
       "      <th>height_max</th>\n",
       "      <th>weight_mean</th>\n",
       "    </tr>\n",
       "    <tr>\n",
       "      <th>kind</th>\n",
       "      <th></th>\n",
       "      <th></th>\n",
       "      <th></th>\n",
       "    </tr>\n",
       "  </thead>\n",
       "  <tbody>\n",
       "    <tr>\n",
       "      <th>cat</th>\n",
       "      <td>9.1</td>\n",
       "      <td>9.5</td>\n",
       "      <td>8.90</td>\n",
       "    </tr>\n",
       "    <tr>\n",
       "      <th>dog</th>\n",
       "      <td>6.0</td>\n",
       "      <td>34.0</td>\n",
       "      <td>102.75</td>\n",
       "    </tr>\n",
       "  </tbody>\n",
       "</table>\n",
       "</div>"
      ],
      "text/plain": [
       "      height_min  height_max  weight_mean\n",
       "kind                                     \n",
       "cat          9.1         9.5         8.90\n",
       "dog          6.0        34.0       102.75"
      ]
     },
     "execution_count": 6,
     "metadata": {},
     "output_type": "execute_result"
    }
   ],
   "source": [
    "def add_multiple_aggs(\n",
    "    df: pd.DataFrame, groupbys: Union[str, List[str]], aggs: List[Tuple[str, str]]\n",
    ") -> pd.DataFrame:\n",
    "    return df.groupby(groupbys).agg(**{\"_\".join(agg): agg for agg in aggs})\n",
    "\n",
    "animals.pipe(\n",
    "    add_multiple_aggs,\n",
    "    \"kind\",\n",
    "    [(\"height\", \"min\"), (\"height\", \"max\"), (\"weight\", \"mean\")],\n",
    ")"
   ]
  },
  {
   "cell_type": "code",
   "execution_count": 10,
   "metadata": {
    "slideshow": {
     "slide_type": "subslide"
    }
   },
   "outputs": [
    {
     "data": {
      "text/html": [
       "<div>\n",
       "<style scoped>\n",
       "    .dataframe tbody tr th:only-of-type {\n",
       "        vertical-align: middle;\n",
       "    }\n",
       "\n",
       "    .dataframe tbody tr th {\n",
       "        vertical-align: top;\n",
       "    }\n",
       "\n",
       "    .dataframe thead th {\n",
       "        text-align: right;\n",
       "    }\n",
       "</style>\n",
       "<table border=\"1\" class=\"dataframe\">\n",
       "  <thead>\n",
       "    <tr style=\"text-align: right;\">\n",
       "      <th></th>\n",
       "      <th>height_mean</th>\n",
       "      <th>height_std</th>\n",
       "      <th>weight_mean</th>\n",
       "      <th>weight_std</th>\n",
       "    </tr>\n",
       "    <tr>\n",
       "      <th>kind</th>\n",
       "      <th></th>\n",
       "      <th></th>\n",
       "      <th></th>\n",
       "      <th></th>\n",
       "    </tr>\n",
       "  </thead>\n",
       "  <tbody>\n",
       "    <tr>\n",
       "      <th>cat</th>\n",
       "      <td>9.3</td>\n",
       "      <td>0.282843</td>\n",
       "      <td>8.90</td>\n",
       "      <td>1.414214</td>\n",
       "    </tr>\n",
       "    <tr>\n",
       "      <th>dog</th>\n",
       "      <td>20.0</td>\n",
       "      <td>19.798990</td>\n",
       "      <td>102.75</td>\n",
       "      <td>134.703842</td>\n",
       "    </tr>\n",
       "  </tbody>\n",
       "</table>\n",
       "</div>"
      ],
      "text/plain": [
       "      height_mean  height_std  weight_mean  weight_std\n",
       "kind                                                  \n",
       "cat           9.3    0.282843         8.90    1.414214\n",
       "dog          20.0   19.798990       102.75  134.703842"
      ]
     },
     "execution_count": 10,
     "metadata": {},
     "output_type": "execute_result"
    }
   ],
   "source": [
    "animals.pipe(\n",
    "    add_multiple_aggs, \"kind\", list(product([\"height\", \"weight\"], [\"mean\", \"std\"]))\n",
    ")"
   ]
  },
  {
   "cell_type": "markdown",
   "metadata": {
    "slideshow": {
     "slide_type": "slide"
    }
   },
   "source": [
    "# Summary"
   ]
  },
  {
   "cell_type": "markdown",
   "metadata": {
    "slideshow": {
     "slide_type": "subslide"
    }
   },
   "source": [
    "## Why?\n",
    "\n",
    "Managing state in Notebooks\n",
    "\n",
    "Serialization\n",
    "\n",
    "Cognitive Load"
   ]
  },
  {
   "cell_type": "markdown",
   "metadata": {
    "slideshow": {
     "slide_type": "subslide"
    }
   },
   "source": [
    "## How?\n",
    "\n",
    "Method Chaining\n",
    "\n",
    "`toolz`\n",
    "\n",
    "`itertools`"
   ]
  },
  {
   "cell_type": "markdown",
   "metadata": {
    "slideshow": {
     "slide_type": "slide"
    }
   },
   "source": [
    "## Thanks!\n",
    "\n",
    "Blog: https://hackersandslackers.com/\n",
    "\n",
    "Twitter: @MattAlhonte\n",
    "\n",
    "Email: mattalhonte@gmail.com"
   ]
  },
  {
   "cell_type": "code",
   "execution_count": null,
   "metadata": {},
   "outputs": [],
   "source": []
  }
 ],
 "metadata": {
  "kernelspec": {
   "display_name": "Python [conda env:py_387]",
   "language": "python",
   "name": "conda-env-py_387-py"
  },
  "language_info": {
   "codemirror_mode": {
    "name": "ipython",
    "version": 3
   },
   "file_extension": ".py",
   "mimetype": "text/x-python",
   "name": "python",
   "nbconvert_exporter": "python",
   "pygments_lexer": "ipython3",
   "version": "3.7.5"
  }
 },
 "nbformat": 4,
 "nbformat_minor": 4
}
